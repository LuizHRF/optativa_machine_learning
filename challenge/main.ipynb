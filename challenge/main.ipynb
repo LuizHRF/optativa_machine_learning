{
 "cells": [
  {
   "cell_type": "markdown",
   "id": "e5c92524",
   "metadata": {},
   "source": [
    "# Classification Challenge\n",
    "\n",
    "Tópicos Especiais em Computação VIII\n",
    "\n",
    "`Luiz Henrique Rigo Faccio`"
   ]
  },
  {
   "cell_type": "code",
   "execution_count": 3,
   "id": "384c0e29",
   "metadata": {},
   "outputs": [],
   "source": [
    "import pandas as pd\n",
    "import matplotlib.pyplot as plt\n",
    "pd.set_option('display.max_columns', None)"
   ]
  },
  {
   "cell_type": "code",
   "execution_count": 4,
   "id": "581c73be",
   "metadata": {},
   "outputs": [],
   "source": [
    "# Loading informations\n",
    "folder = \"diabetes\"\n",
    "diabetes = pd.read_csv(f'{folder}/diabetic_data.csv')\n",
    "mapping = pd.read_csv(f'{folder}/IDS_mapping.csv')\n",
    "admission_type_mapping = mapping[0:7]\n",
    "discharge_disposition_mapping = mapping[10:40].reset_index(drop=True)\n",
    "admission_source_mapping = mapping[42:67].reset_index(drop=True)"
   ]
  },
  {
   "cell_type": "code",
   "execution_count": null,
   "id": "78504e52",
   "metadata": {},
   "outputs": [],
   "source": []
  }
 ],
 "metadata": {
  "kernelspec": {
   "display_name": "Python 3",
   "language": "python",
   "name": "python3"
  },
  "language_info": {
   "codemirror_mode": {
    "name": "ipython",
    "version": 3
   },
   "file_extension": ".py",
   "mimetype": "text/x-python",
   "name": "python",
   "nbconvert_exporter": "python",
   "pygments_lexer": "ipython3",
   "version": "3.12.2"
  }
 },
 "nbformat": 4,
 "nbformat_minor": 5
}
