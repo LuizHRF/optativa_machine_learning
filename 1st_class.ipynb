{
 "cells": [
  {
   "cell_type": "code",
   "execution_count": null,
   "metadata": {},
   "outputs": [],
   "source": [
    "import numpy as np"
   ]
  },
  {
   "cell_type": "code",
   "execution_count": null,
   "metadata": {},
   "outputs": [],
   "source": [
    "a = np.array([[1,2,3],[4,5,6]],dtype=np.float32)\n",
    "print (a.ndim, a.shape, a.dtype)"
   ]
  },
  {
   "cell_type": "code",
   "execution_count": null,
   "metadata": {},
   "outputs": [],
   "source": [
    "a = np.ones((2, 2,3))\n",
    "b = np.zeros_like(a)\n",
    "b"
   ]
  },
  {
   "cell_type": "code",
   "execution_count": 57,
   "metadata": {},
   "outputs": [
    {
     "data": {
      "text/plain": [
       "array([[265, 829, 752, 440, 327, 109, 961,  74, 860, 252],\n",
       "       [551, 468, 714, 239, 557, 389, 388, 183, 933, 445],\n",
       "       [625, 622, 618,  56, 868, 117, 338, 496, 790,  11],\n",
       "       [880, 394, 953,  25, 490,  54, 481, 455, 621, 571],\n",
       "       [825, 652, 343, 785, 676, 935, 519,  84, 768, 989],\n",
       "       [341, 646, 429, 211, 972, 575, 576, 176,  86, 657],\n",
       "       [142, 551, 963, 981, 156, 637,  10, 114, 570, 546],\n",
       "       [451, 449, 594, 330, 953, 854,  97, 573, 711, 165],\n",
       "       [237, 796,  80, 970,  52, 912, 875, 723, 947, 477],\n",
       "       [466, 369, 135, 780, 906,   4, 446,  53, 650, 604]])"
      ]
     },
     "execution_count": 57,
     "metadata": {},
     "output_type": "execute_result"
    }
   ],
   "source": [
    "r = np.random.randint(1000, size=(10, 10))\n",
    "r"
   ]
  },
  {
   "cell_type": "code",
   "execution_count": 99,
   "metadata": {},
   "outputs": [
    {
     "data": {
      "text/plain": [
       "array([1, 2, 3, 4, 5, 6])"
      ]
     },
     "execution_count": 99,
     "metadata": {},
     "output_type": "execute_result"
    }
   ],
   "source": [
    "a = np.array([1,2,3,4,5,6])\n",
    "\n",
    "\n",
    "a = a.reshape(-1,2)\n",
    "a = a.ravel()\n",
    "a"
   ]
  },
  {
   "cell_type": "code",
   "execution_count": 98,
   "metadata": {},
   "outputs": [],
   "source": [
    "a = np.arange(10).reshape(5,2)\n",
    "a = a.transpose((1,0))\n",
    "array = a"
   ]
  },
  {
   "cell_type": "code",
   "execution_count": 101,
   "metadata": {},
   "outputs": [
    {
     "data": {
      "text/plain": [
       "array([[0, 2, 4, 6, 8],\n",
       "       [1, 3, 5, 7, 9]])"
      ]
     },
     "execution_count": 101,
     "metadata": {},
     "output_type": "execute_result"
    }
   ],
   "source": [
    "np.savez('data.npz', b=array, a=a)\n",
    "data = np.load('data.npz')\n",
    "a = data[\"b\"]\n",
    "a\n"
   ]
  }
 ],
 "metadata": {
  "kernelspec": {
   "display_name": "Python 3",
   "language": "python",
   "name": "python3"
  },
  "language_info": {
   "codemirror_mode": {
    "name": "ipython",
    "version": 3
   },
   "file_extension": ".py",
   "mimetype": "text/x-python",
   "name": "python",
   "nbconvert_exporter": "python",
   "pygments_lexer": "ipython3",
   "version": "3.12.2"
  }
 },
 "nbformat": 4,
 "nbformat_minor": 2
}
